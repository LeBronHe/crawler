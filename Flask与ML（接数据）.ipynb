{
 "cells": [
  {
   "cell_type": "code",
   "execution_count": null,
   "metadata": {
    "collapsed": false
   },
   "outputs": [
    {
     "name": "stderr",
     "output_type": "stream",
     "text": [
      " * Running on http://127.0.0.1:5000/ (Press CTRL+C to quit)\n",
      "127.0.0.1 - - [21/Dec/2017 11:35:56] \"POST /register HTTP/1.1\" 200 -\n"
     ]
    }
   ],
   "source": [
    "from flask import Flask,request,jsonify\n",
    "import json\n",
    "import GZJ\n",
    "#import preprocess\n",
    "\n",
    "  \n",
    "app = Flask(__name__)  \n",
    "\n",
    "clf=GZJ.Perceptron()\n",
    "clf.readfile('he/agesonly.csv')\n",
    "clf.updated()\n",
    " \n",
    "@app.route('/register', methods={'POST','GET'})  \n",
    "def register():\n",
    "    a1=request.form.get(\"a1\")\n",
    "    a2=request.form.get(\"a2\")\n",
    "    #print a1\n",
    "    #print a2\n",
    "    data=[float(a1),float(a2)]\n",
    "    #print data\n",
    "    \n",
    "    \n",
    "    #clean_data=preprocess.data_normalization(data)\n",
    "    \n",
    "    result=clf.predict(data)\n",
    "    if result==1:\n",
    "        res=\"成功\"\n",
    "    else:\n",
    "        res=\"失败\"\n",
    "        \n",
    "    #respose=json.dumps(res,ensure_ascii=False).encode(\"utf8\")\n",
    "    #return jsonify(results=result)\n",
    "    return res\n",
    "\n",
    "if __name__ == '__main__':\n",
    "    #app.debug = True\n",
    "    #app.run(host='0.0.0.0')，其他计算机访问用\n",
    "    app.run()"
   ]
  },
  {
   "cell_type": "code",
   "execution_count": null,
   "metadata": {
    "collapsed": true
   },
   "outputs": [],
   "source": [
    "#保存模型  \n",
    "import pickle  \n",
    "s=pickle.dumps(clf)  \n",
    "f=open('GZJ.model','w')  \n",
    "f.write(s)  \n",
    "f.close()"
   ]
  },
  {
   "cell_type": "code",
   "execution_count": 21,
   "metadata": {
    "collapsed": false
   },
   "outputs": [
    {
     "name": "stderr",
     "output_type": "stream",
     "text": [
      " * Running on http://127.0.0.1:3366/ (Press CTRL+C to quit)\n",
      "127.0.0.1 - - [21/Nov/2017 22:00:47] \"GET / HTTP/1.1\" 200 -\n",
      "127.0.0.1 - - [21/Nov/2017 22:01:17] \"GET / HTTP/1.1\" 200 -\n"
     ]
    }
   ],
   "source": [
    "import sys\n",
    "# scipy\n",
    "import scipy\n",
    "# numpy\n",
    "import numpy\n",
    "# matplotlib\n",
    "import matplotlib\n",
    "# pandas\n",
    "import pandas\n",
    "# scikit-learn\n",
    "import sklearn\n",
    "# Load libraries\n",
    "import pandas\n",
    "from pandas.tools.plotting import scatter_matrix\n",
    "import matplotlib.pyplot as plt\n",
    "from sklearn import model_selection\n",
    "from sklearn.metrics import classification_report\n",
    "from sklearn.metrics import confusion_matrix\n",
    "from sklearn.metrics import accuracy_score\n",
    "from sklearn.linear_model import LogisticRegression\n",
    "from sklearn.tree import DecisionTreeClassifier\n",
    "from sklearn.neighbors import KNeighborsClassifier\n",
    "from sklearn.discriminant_analysis import LinearDiscriminantAnalysis\n",
    "from sklearn.naive_bayes import GaussianNB\n",
    "from sklearn.svm import SVC\n",
    "from flask import Flask\n",
    "\n",
    "def study():\n",
    "# Load dataset\n",
    "    url = \"https://archive.ics.uci.edu/ml/machine-learning-databases/iris/iris.data\"\n",
    "    names = ['sepal-length', 'sepal-width', 'petal-length', 'petal-width', 'class']\n",
    "    dataset = pandas.read_csv(url, names=names)\n",
    "# Split-out validation dataset\n",
    "    array = dataset.values\n",
    "    X = array[:,0:4]\n",
    "    Y = array[:,4]\n",
    "    validation_size = 0.20\n",
    "    seed = 7\n",
    "    X_train, X_validation, Y_train, Y_validation = model_selection.train_test_split(X, Y, test_size=validation_size, random_state=seed)\n",
    "# Test options and evaluation metric\n",
    "    seed = 7\n",
    "    scoring = 'accuracy'\n",
    "# Spot Check Algorithms\n",
    "    models = []\n",
    "    models.append(('LR', LogisticRegression()))\n",
    "    models.append(('LDA', LinearDiscriminantAnalysis()))\n",
    "    models.append(('KNN', KNeighborsClassifier()))\n",
    "    models.append(('CART', DecisionTreeClassifier()))\n",
    "    models.append(('NB', GaussianNB()))\n",
    "    models.append(('SVM', SVC()))\n",
    "# evaluate each model in turn\n",
    "    results = []\n",
    "    names = []\n",
    "    result = \"\"\n",
    "    for name, model in models:\n",
    "\n",
    "        kfold = model_selection.KFold(n_splits=10, random_state=seed)\n",
    "        cv_results = model_selection.cross_val_score(model, X_train, Y_train, cv=kfold, scoring=scoring)\n",
    "        results.append(cv_results)\n",
    "        names.append(name)\n",
    "        msg = \"%s: %f (%f)\" % (name, cv_results.mean(), cv_results.std())\n",
    "        result = result + msg\n",
    "    return result\n",
    "\n",
    "app = Flask(__name__)\n",
    "\n",
    "@app.route('/')\n",
    "def index():\n",
    "    return study();\n",
    "\n",
    "if __name__ == '__main__':\n",
    "    app.run(host='127.0.0.1',port=3366)\n"
   ]
  },
  {
   "cell_type": "code",
   "execution_count": null,
   "metadata": {
    "collapsed": true
   },
   "outputs": [],
   "source": []
  }
 ],
 "metadata": {
  "kernelspec": {
   "display_name": "Python 2",
   "language": "python",
   "name": "python2"
  },
  "language_info": {
   "codemirror_mode": {
    "name": "ipython",
    "version": 2
   },
   "file_extension": ".py",
   "mimetype": "text/x-python",
   "name": "python",
   "nbconvert_exporter": "python",
   "pygments_lexer": "ipython2",
   "version": "2.7.13"
  }
 },
 "nbformat": 4,
 "nbformat_minor": 2
}
